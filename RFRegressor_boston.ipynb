{
 "cells": [
  {
   "cell_type": "code",
   "execution_count": 55,
   "id": "cf4faa12",
   "metadata": {},
   "outputs": [
    {
     "name": "stdout",
     "output_type": "stream",
     "text": [
      "(379, 13)\n",
      "(127, 13)\n",
      "0.9805545439239387\n",
      "0.9\n",
      "[19.17   9.887]\n",
      "RandomForestRegressor(max_depth=3, n_estimators=50)\n",
      "RandomForestRegressor(max_depth=3)\n",
      "RandomForestRegressor(max_depth=3, n_estimators=200)\n",
      "RandomForestRegressor(max_depth=4, n_estimators=50)\n",
      "RandomForestRegressor(max_depth=4)\n",
      "RandomForestRegressor(max_depth=4, n_estimators=200)\n",
      "RandomForestRegressor(max_depth=5, n_estimators=50)\n",
      "RandomForestRegressor(max_depth=5)\n",
      "RandomForestRegressor(max_depth=5, n_estimators=200)\n",
      "(5, 50)\n"
     ]
    }
   ],
   "source": [
    "#RandomForestRegressor\n",
    "\n",
    "from sklearn.datasets import load_boston\n",
    "from sklearn.model_selection import train_test_split\n",
    "\n",
    "import numpy as np\n",
    "np.random.seed(100)\n",
    "\n",
    "boston = load_boston()\n",
    "X_train,X_test,y_train,y_test = train_test_split(boston.data,boston.target,random_state = 30)\n",
    "\n",
    "print(X_train.shape)\n",
    "print(X_test.shape)\n",
    "\n",
    "\n",
    "from sklearn.ensemble import RandomForestRegressor\n",
    "rf_reg = RandomForestRegressor()\n",
    "rf_reg.fit(X_train,y_train)\n",
    "\n",
    "print(rf_reg.score(X_train,y_train))\n",
    "print((rf_reg.score(X_test,y_test)).round(1))\n",
    "\n",
    "y_pred = rf_reg.predict(X_test[0:2,:])\n",
    "print(y_pred)\n",
    "\n",
    "valuei  = []\n",
    "valuej = [] \n",
    "tuple1 = ()\n",
    "acc = []\n",
    "est = [50, 100 ,200]\n",
    "for i in range(3,6):\n",
    "    for j in range(len(est)):\n",
    "        rf_reg = RandomForestRegressor(max_depth = i,n_estimators = est[j])\n",
    "        print(rf_reg)\n",
    "        rf_reg.fit(X_train,y_train)\n",
    "        acc.append(rf_reg.score(X_test,y_test))\n",
    "        valuei.append(i)\n",
    "        valuej.append( est[j])\n",
    "print((valuei[acc.index(max(acc))],valuej[acc.index(max(acc))]))\n"
   ]
  },
  {
   "cell_type": "code",
   "execution_count": 57,
   "id": "bd94a88b",
   "metadata": {},
   "outputs": [
    {
     "name": "stdout",
     "output_type": "stream",
     "text": [
      "(112, 4)\n",
      "(38, 4)\n",
      "0.9821428571428571\n",
      "0.9210526315789473\n",
      "(7, 1.0)\n"
     ]
    }
   ],
   "source": [
    "# KNeighborsClassifier\n",
    "from sklearn.model_selection import train_test_split\n",
    "from sklearn.datasets import load_iris\n",
    "\n",
    "iris = load_iris()\n",
    "\n",
    "\n",
    "X_train,X_test,y_train,y_test = train_test_split(iris.data,iris.target,random_state = 30)\n",
    "\n",
    "print(X_train.shape)\n",
    "print(X_test.shape)\n",
    "\n",
    "from sklearn.neighbors import KNeighborsClassifier\n",
    "from sklearn.metrics import accuracy_score\n",
    "knn_clf = KNeighborsClassifier()\n",
    "knn_clf.fit(X_train,y_train)\n",
    "\n",
    "print(knn_clf.score(X_train,y_train))\n",
    "print(knn_clf.score(X_test,y_test))\n",
    "\n",
    "acc = []\n",
    "value = []\n",
    "for i in range(3,11):\n",
    "  knn_clf = KNeighborsClassifier(n_neighbors = i)\n",
    "  knn_clf.fit(X_train,y_train)\n",
    "  y_pred = knn_clf.predict(X_test)\n",
    "  acc.append(accuracy_score(y_test,y_pred))\n",
    "  value.append(i)\n",
    "  \n",
    "\n",
    "print((value[acc.index(max(acc))],max(acc)))\n"
   ]
  },
  {
   "cell_type": "code",
   "execution_count": 58,
   "id": "94b55e6d",
   "metadata": {},
   "outputs": [
    {
     "name": "stdout",
     "output_type": "stream",
     "text": [
      "0.7514854021988339\n",
      "0.7608008469718723\n"
     ]
    },
    {
     "name": "stderr",
     "output_type": "stream",
     "text": [
      "c:\\users\\manojkumar m mhetre\\appdata\\local\\programs\\python\\python39\\lib\\site-packages\\sklearn\\cluster\\_affinity_propagation.py:148: FutureWarning: 'random_state' has been introduced in 0.23. It will be set to None starting from 1.0 (renaming of 0.25) which means that results will differ at every function call. Set 'random_state' to None to silence this warning, or to 0 to keep the behavior of versions <0.23.\n",
      "  warnings.warn(\n",
      "c:\\users\\manojkumar m mhetre\\appdata\\local\\programs\\python\\python39\\lib\\site-packages\\sklearn\\cluster\\_affinity_propagation.py:148: FutureWarning: 'random_state' has been introduced in 0.23. It will be set to None starting from 1.0 (renaming of 0.25) which means that results will differ at every function call. Set 'random_state' to None to silence this warning, or to 0 to keep the behavior of versions <0.23.\n",
      "  warnings.warn(\n"
     ]
    },
    {
     "name": "stdout",
     "output_type": "stream",
     "text": [
      "0.9149410296693684\n"
     ]
    }
   ],
   "source": [
    "# AgglomerativeClustering\n",
    "from sklearn.cluster import KMeans\n",
    "from sklearn.datasets import load_iris\n",
    "from sklearn.metrics import homogeneity_score\n",
    "\n",
    "iris = load_iris()\n",
    "\n",
    "km_cls = KMeans(n_clusters = 3)\n",
    "km_cls.fit(iris.data,iris.target)\n",
    "y_pred = km_cls.predict(iris.data)\n",
    "print(homogeneity_score(iris.target,y_pred))\n",
    "\n",
    "\n",
    "from sklearn.cluster import AgglomerativeClustering\n",
    "agg_cls =  AgglomerativeClustering(n_clusters = 3)\n",
    "agg_cls.fit(iris.data,iris.target)\n",
    "y_pred1 = agg_cls.fit_predict(iris.data)\n",
    "print(homogeneity_score(iris.target,y_pred1))\n",
    "\n",
    "from sklearn.cluster import AffinityPropagation\n",
    "af_cls =  AffinityPropagation()\n",
    "af_cls.fit(iris.data,iris.target)\n",
    "y_pred2 = af_cls.fit_predict(iris.data)\n",
    "print(homogeneity_score(iris.target,y_pred2))"
   ]
  },
  {
   "cell_type": "code",
   "execution_count": 59,
   "id": "cc8a14a7",
   "metadata": {},
   "outputs": [
    {
     "name": "stdout",
     "output_type": "stream",
     "text": [
      "(379, 13)\n",
      "(127, 13)\n",
      "1.0\n",
      "0.8\n",
      "[18.2 13.9]\n",
      "4\n"
     ]
    }
   ],
   "source": [
    "##DecisionTreeRegressor\n",
    "from sklearn.datasets import load_boston\n",
    "from sklearn.model_selection import train_test_split\n",
    "\n",
    "import numpy as np\n",
    "np.random.seed(100)\n",
    "\n",
    "boston = load_boston()\n",
    "X_train,X_test,y_train,y_test = train_test_split(boston.data,boston.target,random_state = 30)\n",
    "\n",
    "print(X_train.shape)\n",
    "print(X_test.shape)\n",
    "\n",
    "from sklearn.tree import DecisionTreeRegressor\n",
    "dt_reg = DecisionTreeRegressor()\n",
    "dt_reg.fit(X_train,y_train)\n",
    "\n",
    "print(dt_reg.score(X_train,y_train))\n",
    "print((dt_reg.score(X_test,y_test)).round(1))\n",
    "\n",
    "y_pred = dt_reg.predict(X_test[0:2,:])\n",
    "print(y_pred)\n",
    "\n",
    "value = []\n",
    "acc= []\n",
    "for i in range(2,6):\n",
    "  dt_reg = DecisionTreeRegressor(max_depth = i)\n",
    "  dt_reg.fit(X_train,y_train)\n",
    "  acc.append(dt_reg.score(X_test,y_test))\n",
    "  value.append(i)\n",
    "\n",
    "print(value[acc.index(max(acc))])"
   ]
  },
  {
   "cell_type": "code",
   "execution_count": 64,
   "id": "41bd7dd9",
   "metadata": {},
   "outputs": [
    {
     "name": "stdout",
     "output_type": "stream",
     "text": [
      "(112, 4)\n",
      "(38, 4)\n",
      "0.9821428571428571\n",
      "0.9473684210526315\n",
      "6\n"
     ]
    }
   ],
   "source": [
    "#Write your code here\n",
    "\n",
    "from sklearn.datasets import load_iris\n",
    "from sklearn.model_selection import train_test_split\n",
    "\n",
    "iris = load_iris()\n",
    "X_train, X_test, y_train, y_test = train_test_split( iris.data,iris.target,random_state=30, stratify=iris.target)\n",
    "print(X_train.shape)\n",
    "print(X_test.shape)\n",
    "\n",
    "from sklearn.neighbors import KNeighborsClassifier\n",
    "\n",
    "knn_clf = KNeighborsClassifier()\n",
    "knn_clf.fit(X_train,y_train)\n",
    "\n",
    "print(knn_clf.score(X_train,y_train))\n",
    "print(knn_clf.score(X_test,y_test))\n",
    "\n",
    "acc = []\n",
    "value = []\n",
    "for i in range(3,11):\n",
    "  knn_clf = KNeighborsClassifier(n_neighbors = i)\n",
    "  knn_clf.fit(X_train,y_train)\n",
    "  acc.append(knn_clf.score(X_test,y_test))\n",
    "  value.append(i)\n",
    "\n",
    "print(value[acc.index(max(acc))])"
   ]
  },
  {
   "cell_type": "code",
   "execution_count": null,
   "id": "ac4d332a",
   "metadata": {},
   "outputs": [],
   "source": []
  }
 ],
 "metadata": {
  "kernelspec": {
   "display_name": "Python 3",
   "language": "python",
   "name": "python3"
  },
  "language_info": {
   "codemirror_mode": {
    "name": "ipython",
    "version": 3
   },
   "file_extension": ".py",
   "mimetype": "text/x-python",
   "name": "python",
   "nbconvert_exporter": "python",
   "pygments_lexer": "ipython3",
   "version": "3.9.5"
  }
 },
 "nbformat": 4,
 "nbformat_minor": 5
}
